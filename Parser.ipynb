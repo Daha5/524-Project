{
 "cells": [
  {
   "cell_type": "code",
   "execution_count": 219,
   "metadata": {
    "collapsed": false,
    "scrolled": true
   },
   "outputs": [
    {
     "name": "stdout",
     "output_type": "stream",
     "text": [
      "Parsing ./html/AGRONOMY100.html\n",
      "Parsing ./html/CS240.html\n",
      "Parsing ./html/MATH320.html\n",
      "Parsing ./html/PHILOS101.html\n",
      "Parsing ./html/PHILOS210.html\n"
     ]
    }
   ],
   "source": [
    "using Gumbo, Cascadia\n",
    "\n",
    "htmlFiles = readdir(\"./html\")\n",
    "courseTableSelector = Selector(\"table.sectionDetailList\")\n",
    "courseRowSelector = Selector(\"tr.detailsClassSection\")\n",
    "\n",
    "for htmlFile in htmlFiles\n",
    "    println(\"Parsing ./html/\" * htmlFile)\n",
    "    html = parsehtml(readstring(\"./html/\" * htmlFile))\n",
    "    courseTable = matchall(courseTableSelector, html.root)\n",
    "    courseRows = matchall(courseRowSelector, courseTable[1])\n",
    "    Classes = []\n",
    "    \n",
    "    for i in 1:size(courseRows,1)\n",
    "        Class = []\n",
    "        push!(Class, strip(courseRows[i][1][1].text))\n",
    "        push!(Class, strip(courseRows[i][2][1][1][1].text))\n",
    "        push!(Class, strip(courseRows[i][4][1].text))\n",
    "        push!(Class, strip(courseRows[i][5][1].text))\n",
    "        if(isspace(strip(courseRows[i][1][1].text)))\n",
    "            if(size(courseRows[i][6].children,1) > 0)\n",
    "                push!(Class, strip(courseRows[i][6][1][1].text)) # Not for non instructor rows\n",
    "            else\n",
    "                push!(Class, \"\") # For empty lastname,firstname\n",
    "                push!(Class, \"\")\n",
    "            end\n",
    "            push!(Class, strip(courseRows[i][7][1].text))    # Not for non instructor rows\n",
    "        end\n",
    "        push!(Classes, join(Class, \",\"))\n",
    "    end\n",
    "    \n",
    "    open(\"./\"* htmlFile *\".csv\", \"w\") do f\n",
    "        write(f, join(Classes, \"\\n\"))\n",
    "    end\n",
    "end"
   ]
  },
  {
   "cell_type": "code",
   "execution_count": 216,
   "metadata": {
    "collapsed": false
   },
   "outputs": [
    {
     "data": {
      "text/plain": [
       "Gumbo.HTMLElement{:td}:\n",
       "<td>\n",
       "                                                \n",
       "                                                         \n",
       "                                                    </td>\n"
      ]
     },
     "execution_count": 216,
     "metadata": {},
     "output_type": "execute_result"
    }
   ],
   "source": [
    "courseRows[2][7]"
   ]
  },
  {
   "cell_type": "code",
   "execution_count": null,
   "metadata": {
    "collapsed": true
   },
   "outputs": [],
   "source": []
  }
 ],
 "metadata": {
  "kernelspec": {
   "display_name": "Julia 0.5.0",
   "language": "julia",
   "name": "julia-0.5"
  },
  "language_info": {
   "file_extension": ".jl",
   "mimetype": "application/julia",
   "name": "julia",
   "version": "0.5.0"
  }
 },
 "nbformat": 4,
 "nbformat_minor": 2
}
